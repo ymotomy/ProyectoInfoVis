{
 "cells": [
  {
   "cell_type": "code",
   "execution_count": 1,
   "metadata": {},
   "outputs": [],
   "source": [
    "import pandas as pd\n",
    "import numpy as np"
   ]
  },
  {
   "cell_type": "code",
   "execution_count": 41,
   "metadata": {},
   "outputs": [],
   "source": [
    "df = pd.read_csv('dataset.csv')"
   ]
  },
  {
   "cell_type": "code",
   "execution_count": 42,
   "metadata": {},
   "outputs": [],
   "source": [
    "# Quiero a la columna Object_Type hacer un split de / y quedarme con el primer elemento\n",
    "df['Object_Type'] = df['Object_Type'].str.split('/').str[0]"
   ]
  },
  {
   "cell_type": "code",
   "execution_count": 32,
   "metadata": {},
   "outputs": [
    {
     "data": {
      "text/html": [
       "<div>\n",
       "<style scoped>\n",
       "    .dataframe tbody tr th:only-of-type {\n",
       "        vertical-align: middle;\n",
       "    }\n",
       "\n",
       "    .dataframe tbody tr th {\n",
       "        vertical-align: top;\n",
       "    }\n",
       "\n",
       "    .dataframe thead th {\n",
       "        text-align: right;\n",
       "    }\n",
       "</style>\n",
       "<table border=\"1\" class=\"dataframe\">\n",
       "  <thead>\n",
       "    <tr style=\"text-align: right;\">\n",
       "      <th></th>\n",
       "      <th>Messier</th>\n",
       "      <th>NGC</th>\n",
       "      <th>Object_Type</th>\n",
       "      <th>Magnitude</th>\n",
       "      <th>Constellation</th>\n",
       "      <th>Distance</th>\n",
       "      <th>Dimensions</th>\n",
       "      <th>Discoverer</th>\n",
       "      <th>Year</th>\n",
       "      <th>Name</th>\n",
       "    </tr>\n",
       "  </thead>\n",
       "  <tbody>\n",
       "    <tr>\n",
       "      <th>0</th>\n",
       "      <td>M1</td>\n",
       "      <td>NGC 1952</td>\n",
       "      <td>Supernova remnant</td>\n",
       "      <td>8</td>\n",
       "      <td>Taurus</td>\n",
       "      <td>6500.0</td>\n",
       "      <td>6,0' x 4,0'</td>\n",
       "      <td>Bévis</td>\n",
       "      <td>1731.0</td>\n",
       "      <td>Crab Nebula</td>\n",
       "    </tr>\n",
       "    <tr>\n",
       "      <th>1</th>\n",
       "      <td>M2</td>\n",
       "      <td>NGC 7089</td>\n",
       "      <td>Globular Cluster</td>\n",
       "      <td>6</td>\n",
       "      <td>Aquarius</td>\n",
       "      <td>55000.0</td>\n",
       "      <td>11,7'</td>\n",
       "      <td>Maraldi</td>\n",
       "      <td>1746.0</td>\n",
       "      <td>NaN</td>\n",
       "    </tr>\n",
       "    <tr>\n",
       "      <th>2</th>\n",
       "      <td>M3</td>\n",
       "      <td>NGC 5272</td>\n",
       "      <td>Globular Cluster</td>\n",
       "      <td>6</td>\n",
       "      <td>Canes Venatici</td>\n",
       "      <td>48500.0</td>\n",
       "      <td>18,6'</td>\n",
       "      <td>Messier</td>\n",
       "      <td>1764.0</td>\n",
       "      <td>NaN</td>\n",
       "    </tr>\n",
       "    <tr>\n",
       "      <th>3</th>\n",
       "      <td>M4</td>\n",
       "      <td>NGC 6121</td>\n",
       "      <td>Globular Cluster</td>\n",
       "      <td>5</td>\n",
       "      <td>Scorpius</td>\n",
       "      <td>9900.0</td>\n",
       "      <td>22,8'</td>\n",
       "      <td>Chéseaux</td>\n",
       "      <td>1746.0</td>\n",
       "      <td>NaN</td>\n",
       "    </tr>\n",
       "    <tr>\n",
       "      <th>4</th>\n",
       "      <td>M5</td>\n",
       "      <td>NGC 5904</td>\n",
       "      <td>Globular Cluster</td>\n",
       "      <td>5</td>\n",
       "      <td>Serpens</td>\n",
       "      <td>24800.0</td>\n",
       "      <td>19,9'</td>\n",
       "      <td>Kirch</td>\n",
       "      <td>1702.0</td>\n",
       "      <td>NaN</td>\n",
       "    </tr>\n",
       "  </tbody>\n",
       "</table>\n",
       "</div>"
      ],
      "text/plain": [
       "  Messier       NGC         Object_Type  Magnitude   Constellation  Distance  \\\n",
       "0      M1  NGC 1952  Supernova remnant           8          Taurus    6500.0   \n",
       "1      M2  NGC 7089   Globular Cluster           6        Aquarius   55000.0   \n",
       "2      M3  NGC 5272   Globular Cluster           6  Canes Venatici   48500.0   \n",
       "3      M4  NGC 6121   Globular Cluster           5        Scorpius    9900.0   \n",
       "4      M5  NGC 5904   Globular Cluster           5         Serpens   24800.0   \n",
       "\n",
       "    Dimensions Discoverer    Year         Name  \n",
       "0  6,0' x 4,0'      Bévis  1731.0  Crab Nebula  \n",
       "1        11,7'    Maraldi  1746.0          NaN  \n",
       "2        18,6'    Messier  1764.0          NaN  \n",
       "3        22,8'   Chéseaux  1746.0          NaN  \n",
       "4        19,9'      Kirch  1702.0          NaN  "
      ]
     },
     "execution_count": 32,
     "metadata": {},
     "output_type": "execute_result"
    }
   ],
   "source": [
    "df.head()"
   ]
  },
  {
   "cell_type": "code",
   "execution_count": 33,
   "metadata": {},
   "outputs": [
    {
     "data": {
      "text/plain": [
       "(110, 10)"
      ]
     },
     "execution_count": 33,
     "metadata": {},
     "output_type": "execute_result"
    }
   ],
   "source": [
    "df.shape"
   ]
  },
  {
   "cell_type": "code",
   "execution_count": 34,
   "metadata": {},
   "outputs": [],
   "source": [
    "# Drop column\n",
    "df.drop('Name', axis=1, inplace=True)"
   ]
  },
  {
   "cell_type": "code",
   "execution_count": 37,
   "metadata": {},
   "outputs": [],
   "source": [
    "df.dropna(inplace=True)"
   ]
  },
  {
   "cell_type": "code",
   "execution_count": 47,
   "metadata": {},
   "outputs": [
    {
     "data": {
      "text/plain": [
       "[1610.0,\n",
       " 1654.0,\n",
       " 1654.0,\n",
       " 1654.0,\n",
       " 1654.0,\n",
       " 1654.0,\n",
       " 1654.0,\n",
       " 1660.0,\n",
       " 1665.0,\n",
       " 1680.0,\n",
       " 1681.0,\n",
       " 1702.0,\n",
       " 1710.0,\n",
       " 1714.0,\n",
       " 1731.0,\n",
       " 1746.0,\n",
       " 1746.0,\n",
       " 1746.0,\n",
       " 1749.0,\n",
       " 1764.0,\n",
       " nan,\n",
       " 1746.0,\n",
       " 1746.0,\n",
       " 1746.0,\n",
       " 1746.0,\n",
       " 1746.0,\n",
       " 1749.0,\n",
       " 1749.0,\n",
       " 1750.0,\n",
       " 1750.0,\n",
       " 1751.0,\n",
       " 1764.0,\n",
       " 1764.0,\n",
       " 1764.0,\n",
       " 1764.0,\n",
       " 1764.0,\n",
       " 1764.0,\n",
       " 1764.0,\n",
       " 1764.0,\n",
       " 1764.0,\n",
       " 1764.0,\n",
       " 1764.0,\n",
       " 1764.0,\n",
       " 1764.0,\n",
       " nan,\n",
       " 1764.0,\n",
       " 1764.0,\n",
       " nan,\n",
       " nan,\n",
       " 1751.0,\n",
       " 1751.0,\n",
       " 1771.0,\n",
       " 1771.0,\n",
       " 1771.0,\n",
       " 1771.0,\n",
       " 1773.0,\n",
       " 1773.0,\n",
       " 1774.0,\n",
       " 1774.0,\n",
       " 1774.0,\n",
       " 1775.0,\n",
       " 1775.0,\n",
       " 1777.0,\n",
       " 1778.0,\n",
       " 1778.0,\n",
       " 1779.0,\n",
       " 1779.0,\n",
       " 1779.0,\n",
       " 1779.0,\n",
       " 1779.0,\n",
       " 1779.0,\n",
       " 1779.0,\n",
       " 1780.0,\n",
       " 1780.0,\n",
       " 1780.0,\n",
       " 1780.0,\n",
       " 1780.0,\n",
       " 1780.0,\n",
       " 1780.0,\n",
       " 1780.0,\n",
       " 1780.0,\n",
       " 1780.0,\n",
       " 1780.0,\n",
       " 1780.0,\n",
       " 1781.0,\n",
       " 1781.0,\n",
       " 1781.0,\n",
       " 1781.0,\n",
       " 1781.0,\n",
       " 1781.0,\n",
       " 1781.0,\n",
       " 1781.0,\n",
       " 1781.0,\n",
       " 1781.0,\n",
       " 1781.0,\n",
       " 1781.0,\n",
       " 1781.0,\n",
       " 1781.0,\n",
       " 1781.0,\n",
       " 1781.0,\n",
       " 1781.0,\n",
       " 1781.0,\n",
       " 1781.0,\n",
       " 1781.0,\n",
       " 1781.0,\n",
       " 1781.0,\n",
       " 1781.0,\n",
       " 1782.0,\n",
       " 1782.0,\n",
       " 1782.0]"
      ]
     },
     "execution_count": 47,
     "metadata": {},
     "output_type": "execute_result"
    }
   ],
   "source": [
    "sorted(df['Year'])"
   ]
  },
  {
   "cell_type": "code",
   "execution_count": null,
   "metadata": {},
   "outputs": [],
   "source": []
  }
 ],
 "metadata": {
  "kernelspec": {
   "display_name": "Python 3",
   "language": "python",
   "name": "python3"
  },
  "language_info": {
   "codemirror_mode": {
    "name": "ipython",
    "version": 3
   },
   "file_extension": ".py",
   "mimetype": "text/x-python",
   "name": "python",
   "nbconvert_exporter": "python",
   "pygments_lexer": "ipython3",
   "version": "3.9.2"
  },
  "orig_nbformat": 4
 },
 "nbformat": 4,
 "nbformat_minor": 2
}
