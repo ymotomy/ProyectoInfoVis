{
 "cells": [
  {
   "cell_type": "code",
   "execution_count": 1,
   "metadata": {},
   "outputs": [],
   "source": [
    "import pandas as pd\n",
    "import numpy as np"
   ]
  },
  {
   "cell_type": "code",
   "execution_count": 16,
   "metadata": {},
   "outputs": [],
   "source": [
    "df = pd.read_csv('Visualizacion/data/dataset.csv')"
   ]
  },
  {
   "cell_type": "code",
   "execution_count": 63,
   "metadata": {},
   "outputs": [
    {
     "data": {
      "text/html": [
       "<div>\n",
       "<style scoped>\n",
       "    .dataframe tbody tr th:only-of-type {\n",
       "        vertical-align: middle;\n",
       "    }\n",
       "\n",
       "    .dataframe tbody tr th {\n",
       "        vertical-align: top;\n",
       "    }\n",
       "\n",
       "    .dataframe thead th {\n",
       "        text-align: right;\n",
       "    }\n",
       "</style>\n",
       "<table border=\"1\" class=\"dataframe\">\n",
       "  <thead>\n",
       "    <tr style=\"text-align: right;\">\n",
       "      <th></th>\n",
       "      <th>Messier</th>\n",
       "      <th>NGC</th>\n",
       "      <th>Object_Type</th>\n",
       "      <th>Magnitude</th>\n",
       "      <th>Constellation</th>\n",
       "      <th>Distance</th>\n",
       "      <th>Dimensions</th>\n",
       "      <th>Discoverer</th>\n",
       "      <th>Year</th>\n",
       "      <th>Name</th>\n",
       "    </tr>\n",
       "  </thead>\n",
       "  <tbody>\n",
       "    <tr>\n",
       "      <th>0</th>\n",
       "      <td>M1</td>\n",
       "      <td>NGC 1952</td>\n",
       "      <td>Supernova remnant</td>\n",
       "      <td>8</td>\n",
       "      <td>Taurus</td>\n",
       "      <td>6500</td>\n",
       "      <td>6.0' x 4.0'</td>\n",
       "      <td>Bévis</td>\n",
       "      <td>1731</td>\n",
       "      <td>Crab Nebula</td>\n",
       "    </tr>\n",
       "    <tr>\n",
       "      <th>1</th>\n",
       "      <td>M2</td>\n",
       "      <td>NGC 7089</td>\n",
       "      <td>Globular Cluster</td>\n",
       "      <td>6</td>\n",
       "      <td>Aquarius</td>\n",
       "      <td>55000</td>\n",
       "      <td>11.7'</td>\n",
       "      <td>Maraldi</td>\n",
       "      <td>1746</td>\n",
       "      <td>NaN</td>\n",
       "    </tr>\n",
       "    <tr>\n",
       "      <th>2</th>\n",
       "      <td>M3</td>\n",
       "      <td>NGC 5272</td>\n",
       "      <td>Globular Cluster</td>\n",
       "      <td>6</td>\n",
       "      <td>Canes Venatici</td>\n",
       "      <td>48500</td>\n",
       "      <td>18.6'</td>\n",
       "      <td>Messier</td>\n",
       "      <td>1764</td>\n",
       "      <td>NaN</td>\n",
       "    </tr>\n",
       "    <tr>\n",
       "      <th>3</th>\n",
       "      <td>M4</td>\n",
       "      <td>NGC 6121</td>\n",
       "      <td>Globular Cluster</td>\n",
       "      <td>5</td>\n",
       "      <td>Scorpius</td>\n",
       "      <td>9900</td>\n",
       "      <td>22.8'</td>\n",
       "      <td>Chéseaux</td>\n",
       "      <td>1746</td>\n",
       "      <td>NaN</td>\n",
       "    </tr>\n",
       "    <tr>\n",
       "      <th>4</th>\n",
       "      <td>M5</td>\n",
       "      <td>NGC 5904</td>\n",
       "      <td>Globular Cluster</td>\n",
       "      <td>5</td>\n",
       "      <td>Serpens</td>\n",
       "      <td>24800</td>\n",
       "      <td>19.9'</td>\n",
       "      <td>Kirch</td>\n",
       "      <td>1702</td>\n",
       "      <td>NaN</td>\n",
       "    </tr>\n",
       "  </tbody>\n",
       "</table>\n",
       "</div>"
      ],
      "text/plain": [
       "  Messier       NGC        Object_Type  Magnitude   Constellation  Distance   \n",
       "0      M1  NGC 1952  Supernova remnant          8          Taurus      6500  \\\n",
       "1      M2  NGC 7089   Globular Cluster          6        Aquarius     55000   \n",
       "2      M3  NGC 5272   Globular Cluster          6  Canes Venatici     48500   \n",
       "3      M4  NGC 6121   Globular Cluster          5        Scorpius      9900   \n",
       "4      M5  NGC 5904   Globular Cluster          5         Serpens     24800   \n",
       "\n",
       "    Dimensions Discoverer  Year         Name  \n",
       "0  6.0' x 4.0'      Bévis  1731  Crab Nebula  \n",
       "1        11.7'    Maraldi  1746          NaN  \n",
       "2        18.6'    Messier  1764          NaN  \n",
       "3        22.8'   Chéseaux  1746          NaN  \n",
       "4        19.9'      Kirch  1702          NaN  "
      ]
     },
     "execution_count": 63,
     "metadata": {},
     "output_type": "execute_result"
    }
   ],
   "source": [
    "df.head()"
   ]
  },
  {
   "cell_type": "code",
   "execution_count": null,
   "metadata": {},
   "outputs": [],
   "source": [
    "# En year pasamos a enteros los distintos a No Establecido\n",
    "df['Year'] = df['Year'].apply(lambda x: int(float(x)) if x != 'No Establecido' else x)"
   ]
  },
  {
   "cell_type": "code",
   "execution_count": null,
   "metadata": {},
   "outputs": [],
   "source": [
    "df.head(10)"
   ]
  },
  {
   "cell_type": "code",
   "execution_count": null,
   "metadata": {},
   "outputs": [],
   "source": [
    "# Columna Object_Type queremos splitear por '/' y solo tomar el primer elemento\n",
    "df['Object_Type'] = df['Object_Type'].apply(lambda x: x.split('/')[0].rstrip(' '))"
   ]
  },
  {
   "cell_type": "code",
   "execution_count": null,
   "metadata": {},
   "outputs": [],
   "source": [
    "# Year cambiar los No regrstrado por no establecido\n",
    "df['Year'] = df['Year'].replace('No Registrado', 'No Establecido')"
   ]
  },
  {
   "cell_type": "code",
   "execution_count": null,
   "metadata": {},
   "outputs": [],
   "source": [
    "df.head(10)"
   ]
  },
  {
   "cell_type": "code",
   "execution_count": null,
   "metadata": {},
   "outputs": [],
   "source": [
    "# Revisemos cuantos valores son nulos\n",
    "df.isnull().sum()"
   ]
  },
  {
   "cell_type": "code",
   "execution_count": null,
   "metadata": {},
   "outputs": [],
   "source": [
    "nulos_Disc = df[df['Discoverer'].isnull()]\n",
    "\n",
    "df['Discoverer'] = df['Discoverer'].fillna('No Registrado')"
   ]
  },
  {
   "cell_type": "code",
   "execution_count": null,
   "metadata": {},
   "outputs": [],
   "source": [
    "# Ponemos de dimension 0.8' porque no se cargo bien el dato\n",
    "nulos_dim = df[df['Dimensions'].isnull()]\n",
    "\n",
    "df['Dimensions'] = df['Dimensions'].fillna(\"0.8'\")"
   ]
  },
  {
   "cell_type": "code",
   "execution_count": null,
   "metadata": {},
   "outputs": [],
   "source": [
    "#Busquemos los valores nulos en la columna NGC\n",
    "nulos_NG = df[df['NGC'].isnull()]\n",
    "\n",
    "# Cambiamos los valores nulos por No NGC\n",
    "df['NGC'] = df['NGC'].fillna('No Registrado')"
   ]
  },
  {
   "cell_type": "code",
   "execution_count": null,
   "metadata": {},
   "outputs": [],
   "source": [
    "# Quiero a la columna Object_Type hacer un split de / y quedarme con el primer elemento\n",
    "df['Object_Type'] = df['Object_Type'].str.split('/').str[0]"
   ]
  },
  {
   "cell_type": "code",
   "execution_count": null,
   "metadata": {},
   "outputs": [],
   "source": [
    "df.to_csv('Visualizacion/data/dataset.csv', index=False)"
   ]
  },
  {
   "cell_type": "code",
   "execution_count": null,
   "metadata": {},
   "outputs": [],
   "source": [
    "# Drop column\n",
    "df.drop('Name', axis=1, inplace=True)"
   ]
  },
  {
   "cell_type": "code",
   "execution_count": 37,
   "metadata": {},
   "outputs": [],
   "source": [
    "df.dropna(inplace=True)"
   ]
  },
  {
   "cell_type": "code",
   "execution_count": 64,
   "metadata": {},
   "outputs": [
    {
     "data": {
      "text/plain": [
       "[410,\n",
       " 510,\n",
       " 520,\n",
       " 780,\n",
       " 880,\n",
       " 980,\n",
       " 1300,\n",
       " 1410,\n",
       " 1450,\n",
       " 1500,\n",
       " 1500,\n",
       " 1500,\n",
       " 1600,\n",
       " 1630,\n",
       " 1750,\n",
       " 2060,\n",
       " 2150,\n",
       " 2300,\n",
       " 2500,\n",
       " 2600,\n",
       " 2750,\n",
       " 2800,\n",
       " 2950,\n",
       " 3000,\n",
       " 3200,\n",
       " 3600,\n",
       " 3600,\n",
       " 3700,\n",
       " 4100,\n",
       " 4200,\n",
       " 4850,\n",
       " 4900,\n",
       " 5100,\n",
       " 5600,\n",
       " 5870,\n",
       " 5870,\n",
       " 6500,\n",
       " 7800,\n",
       " 8200,\n",
       " 8500,\n",
       " 9900,\n",
       " 10000,\n",
       " 13000,\n",
       " 16000,\n",
       " 16300,\n",
       " 18900,\n",
       " 19000,\n",
       " 19200,\n",
       " 20000,\n",
       " 22500,\n",
       " 22500,\n",
       " 23500,\n",
       " 23500,\n",
       " 24000,\n",
       " 24800,\n",
       " 25800,\n",
       " 28400,\n",
       " 36000,\n",
       " 36000,\n",
       " 41000,\n",
       " 43400,\n",
       " 45600,\n",
       " 48500,\n",
       " 49000,\n",
       " 49500,\n",
       " 55000,\n",
       " 62000,\n",
       " 65000,\n",
       " 69000,\n",
       " 78500,\n",
       " 2250000,\n",
       " 2500000,\n",
       " 2500000,\n",
       " 2723000,\n",
       " 8500000,\n",
       " 8500000,\n",
       " 8500000,\n",
       " 11800000,\n",
       " 20000000,\n",
       " 20000000,\n",
       " 20300000,\n",
       " 21500000,\n",
       " 23000000,\n",
       " 23000000,\n",
       " 23500000,\n",
       " 23800000,\n",
       " 26000000,\n",
       " 27000000,\n",
       " 29000000,\n",
       " 29000000,\n",
       " 29300000,\n",
       " 32600000,\n",
       " 36000000,\n",
       " 37000000,\n",
       " 37000000,\n",
       " 40000000,\n",
       " 41000000,\n",
       " 41000000,\n",
       " 41000000,\n",
       " 41000000,\n",
       " 41000000,\n",
       " 41000000,\n",
       " 41000000,\n",
       " 41000000,\n",
       " 41000000,\n",
       " 41000000,\n",
       " 41000000,\n",
       " 41000000,\n",
       " 52000000,\n",
       " 63000000]"
      ]
     },
     "execution_count": 64,
     "metadata": {},
     "output_type": "execute_result"
    }
   ],
   "source": [
    "sorted(df['Distance'])"
   ]
  },
  {
   "cell_type": "code",
   "execution_count": 4,
   "metadata": {},
   "outputs": [
    {
     "data": {
      "text/plain": [
       "Object_Type\n",
       "Galaxy               40\n",
       "Globular Cluster     29\n",
       "Open Cluster         28\n",
       "Emission Nebula       5\n",
       "Planetary Nebula      4\n",
       "Reflection Nebula     2\n",
       "Supernova remnant     1\n",
       "Double star           1\n",
       "Name: count, dtype: int64"
      ]
     },
     "execution_count": 4,
     "metadata": {},
     "output_type": "execute_result"
    }
   ],
   "source": [
    "#quiero saber la freuencia de los valores de la columna object type\n",
    "df['Object_Type'].value_counts()"
   ]
  },
  {
   "cell_type": "code",
   "execution_count": 17,
   "metadata": {},
   "outputs": [],
   "source": [
    "#quiero crear una nueva columna que sea la copia de la columna Object_Type pero que Emissiona Nebula, Planetary Nebula, Reflection Nebula y Supernova remnant pasen a ser Nebula\n",
    "df['Object_Type2'] = df['Object_Type'].replace(['Emission Nebula', 'Planetary Nebula', 'Reflection Nebula', 'Supernova remnant'], 'Nebula')"
   ]
  },
  {
   "cell_type": "code",
   "execution_count": 19,
   "metadata": {},
   "outputs": [
    {
     "data": {
      "text/plain": [
       "Object_Type2\n",
       "Galaxy              40\n",
       "Globular Cluster    29\n",
       "Open Cluster        28\n",
       "Nebula              12\n",
       "Double star          1\n",
       "Name: count, dtype: int64"
      ]
     },
     "execution_count": 19,
     "metadata": {},
     "output_type": "execute_result"
    }
   ],
   "source": [
    "df['Object_Type2'].value_counts()"
   ]
  },
  {
   "cell_type": "code",
   "execution_count": 5,
   "metadata": {},
   "outputs": [
    {
     "data": {
      "text/plain": [
       "['1610',\n",
       " '1654',\n",
       " '1654',\n",
       " '1654',\n",
       " '1654',\n",
       " '1654',\n",
       " '1654',\n",
       " '1660',\n",
       " '1665',\n",
       " '1680',\n",
       " '1681',\n",
       " '1702',\n",
       " '1710',\n",
       " '1714',\n",
       " '1731',\n",
       " '1746',\n",
       " '1746',\n",
       " '1746',\n",
       " '1746',\n",
       " '1746',\n",
       " '1746',\n",
       " '1746',\n",
       " '1746',\n",
       " '1749',\n",
       " '1749',\n",
       " '1749',\n",
       " '1750',\n",
       " '1750',\n",
       " '1751',\n",
       " '1751',\n",
       " '1751',\n",
       " '1764',\n",
       " '1764',\n",
       " '1764',\n",
       " '1764',\n",
       " '1764',\n",
       " '1764',\n",
       " '1764',\n",
       " '1764',\n",
       " '1764',\n",
       " '1764',\n",
       " '1764',\n",
       " '1764',\n",
       " '1764',\n",
       " '1764',\n",
       " '1764',\n",
       " '1764',\n",
       " '1769',\n",
       " '1771',\n",
       " '1771',\n",
       " '1771',\n",
       " '1771',\n",
       " '1773',\n",
       " '1773',\n",
       " '1774',\n",
       " '1774',\n",
       " '1774',\n",
       " '1775',\n",
       " '1775',\n",
       " '1777',\n",
       " '1778',\n",
       " '1778',\n",
       " '1779',\n",
       " '1779',\n",
       " '1779',\n",
       " '1779',\n",
       " '1779',\n",
       " '1779',\n",
       " '1779',\n",
       " '1780',\n",
       " '1780',\n",
       " '1780',\n",
       " '1780',\n",
       " '1780',\n",
       " '1780',\n",
       " '1780',\n",
       " '1780',\n",
       " '1780',\n",
       " '1780',\n",
       " '1780',\n",
       " '1780',\n",
       " '1781',\n",
       " '1781',\n",
       " '1781',\n",
       " '1781',\n",
       " '1781',\n",
       " '1781',\n",
       " '1781',\n",
       " '1781',\n",
       " '1781',\n",
       " '1781',\n",
       " '1781',\n",
       " '1781',\n",
       " '1781',\n",
       " '1781',\n",
       " '1781',\n",
       " '1781',\n",
       " '1781',\n",
       " '1781',\n",
       " '1781',\n",
       " '1781',\n",
       " '1781',\n",
       " '1781',\n",
       " '1781',\n",
       " '1782',\n",
       " '1782',\n",
       " '1782',\n",
       " 'No Establecido',\n",
       " 'No Establecido',\n",
       " 'No Establecido']"
      ]
     },
     "execution_count": 5,
     "metadata": {},
     "output_type": "execute_result"
    }
   ],
   "source": [
    "sorted(df[\"Year\"])"
   ]
  },
  {
   "cell_type": "code",
   "execution_count": 20,
   "metadata": {},
   "outputs": [],
   "source": [
    "df.to_csv('Visualizacion/dataset.csv', index=False)"
   ]
  }
 ],
 "metadata": {
  "kernelspec": {
   "display_name": "Python 3",
   "language": "python",
   "name": "python3"
  },
  "language_info": {
   "codemirror_mode": {
    "name": "ipython",
    "version": 3
   },
   "file_extension": ".py",
   "mimetype": "text/x-python",
   "name": "python",
   "nbconvert_exporter": "python",
   "pygments_lexer": "ipython3",
   "version": "3.10.6"
  },
  "orig_nbformat": 4
 },
 "nbformat": 4,
 "nbformat_minor": 2
}
